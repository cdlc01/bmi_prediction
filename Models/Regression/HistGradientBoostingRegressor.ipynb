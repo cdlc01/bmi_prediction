{
 "cells": [
  {
   "cell_type": "markdown",
   "metadata": {},
   "source": [
    "# HistGradientBoostingRegressor"
   ]
  },
  {
   "cell_type": "code",
   "execution_count": 149,
   "metadata": {},
   "outputs": [],
   "source": [
    "import pandas as pd\n",
    "\n",
    "from sklearn.preprocessing import StandardScaler, MinMaxScaler, MaxAbsScaler, RobustScaler\n",
    "from sklearn.preprocessing import Normalizer, QuantileTransformer, PowerTransformer\n",
    "from feature_engine.transformation import LogTransformer, LogCpTransformer, ReciprocalTransformer\n",
    "from feature_engine.transformation import PowerTransformer, BoxCoxTransformer, YeoJohnsonTransformer\n",
    "from feature_engine.discretisation import EqualFrequencyDiscretiser, EqualWidthDiscretiser\n",
    "from feature_engine.discretisation import DecisionTreeDiscretiser\n",
    "\n",
    "from sklearn.preprocessing import OneHotEncoder, LabelEncoder, OrdinalEncoder\n",
    "from feature_engine.encoding import CountFrequencyEncoder, MeanEncoder, WoEEncoder, PRatioEncoder\n",
    "from feature_engine.encoding import DecisionTreeEncoder, RareLabelEncoder\n",
    "from category_encoders import BackwardDifferenceEncoder, BaseNEncoder, CatBoostEncoder\n",
    "from category_encoders import GLMMEncoder, HashingEncoder, HelmertEncoder, JamesSteinEncoder\n",
    "from category_encoders import LeaveOneOutEncoder, PolynomialEncoder, SumEncoder\n",
    "\n",
    "from sklearn.model_selection import train_test_split\n",
    "from sklearn.compose import ColumnTransformer\n",
    "from sklearn.base import BaseEstimator, TransformerMixin\n",
    "from sklearn.model_selection import GridSearchCV\n",
    "\n",
    "from sklearn.experimental import enable_hist_gradient_boosting  \n",
    "from sklearn.ensemble import HistGradientBoostingRegressor\n",
    "from sklearn.pipeline import Pipeline\n",
    "from sklearn.metrics import mean_squared_error\n",
    "from math import sqrt\n",
    "from feature_engine.selection import RecursiveFeatureElimination, RecursiveFeatureAddition"
   ]
  },
  {
   "cell_type": "code",
   "execution_count": 59,
   "metadata": {},
   "outputs": [],
   "source": [
    "df = pd.read_csv('ObesityDataSet copy.csv')"
   ]
  },
  {
   "cell_type": "code",
   "execution_count": 60,
   "metadata": {},
   "outputs": [],
   "source": [
    "df['BMI'] = df['Weight']/(df['Height']**2)"
   ]
  },
  {
   "cell_type": "code",
   "execution_count": 61,
   "metadata": {},
   "outputs": [],
   "source": [
    "df.drop(26, inplace = True)"
   ]
  },
  {
   "cell_type": "code",
   "execution_count": 62,
   "metadata": {},
   "outputs": [],
   "source": [
    "fixed_df = df.drop(['Height', 'Weight', 'NObeyesdad'], axis = 1)"
   ]
  },
  {
   "cell_type": "markdown",
   "metadata": {},
   "source": [
    "# Creating A Scaler"
   ]
  },
  {
   "cell_type": "code",
   "execution_count": 11,
   "metadata": {},
   "outputs": [],
   "source": [
    "class ScalerSelector(BaseEstimator, TransformerMixin):\n",
    "    \n",
    "    def __init__(self, scaler = StandardScaler()):\n",
    "        super().__init__()\n",
    "        self.scaler = scaler\n",
    "    \n",
    "    def fit(self, X, y = None):\n",
    "        return self.scaler.fit(X)\n",
    "    \n",
    "    def transform(self, X, y = None):\n",
    "        return self.scaler.transform(X)"
   ]
  },
  {
   "cell_type": "code",
   "execution_count": 12,
   "metadata": {},
   "outputs": [],
   "source": [
    "class EncoderSelector(BaseEstimator, TransformerMixin):\n",
    "    \n",
    "    def __init__(self, encoder = OneHotEncoder(handle_unknown = 'ignore')):\n",
    "        super().__init__()\n",
    "        self.encoder = encoder\n",
    "    \n",
    "    def fit(self, X, y = None):\n",
    "        return self.encoder.fit(X)\n",
    "    \n",
    "    def transform(self, X, y = None):\n",
    "        return self.encoder.transform(X)"
   ]
  },
  {
   "cell_type": "markdown",
   "metadata": {},
   "source": [
    "# Train Test Split"
   ]
  },
  {
   "cell_type": "code",
   "execution_count": 63,
   "metadata": {},
   "outputs": [],
   "source": [
    "X = fixed_df.drop(['BMI'], axis = 1)\n",
    "y = fixed_df['BMI']"
   ]
  },
  {
   "cell_type": "code",
   "execution_count": 64,
   "metadata": {},
   "outputs": [],
   "source": [
    "X_train, X_test, y_train, y_test = train_test_split(X, y, random_state=0)"
   ]
  },
  {
   "cell_type": "code",
   "execution_count": 65,
   "metadata": {},
   "outputs": [],
   "source": [
    "cat = ['Gender', 'family_history_with_overweight', 'FAVC', 'CAEC', 'SMOKE', 'SCC', 'CALC', 'MTRANS']\n",
    "cont = ['Age', 'FCVC', 'NCP', 'CH2O', 'FAF', 'TUE']"
   ]
  },
  {
   "cell_type": "markdown",
   "metadata": {},
   "source": [
    "# Pipeline"
   ]
  },
  {
   "cell_type": "code",
   "execution_count": 66,
   "metadata": {},
   "outputs": [],
   "source": [
    "col_tran = ColumnTransformer(\n",
    "    [(\"scaler\", ScalerSelector(), cont),\n",
    "     (\"encoder\", EncoderSelector(), cat)])"
   ]
  },
  {
   "cell_type": "code",
   "execution_count": 67,
   "metadata": {},
   "outputs": [],
   "source": [
    "hgbr_pipe = Pipeline([\n",
    "    ('col_tran', col_tran),\n",
    "    ('hgbt', HistGradientBoostingRegressor(warm_start = True, random_state = 0))\n",
    "])"
   ]
  },
  {
   "cell_type": "markdown",
   "metadata": {},
   "source": [
    "# Grid Search for Scaler"
   ]
  },
  {
   "cell_type": "code",
   "execution_count": 68,
   "metadata": {},
   "outputs": [],
   "source": [
    "params_1 = {'col_tran__scaler': [StandardScaler(), MinMaxScaler(), MaxAbsScaler(), RobustScaler(),\n",
    "                                Normalizer(), QuantileTransformer(), PowerTransformer(), LogTransformer(),\n",
    "                                LogCpTransformer(), ReciprocalTransformer(), PowerTransformer(), BoxCoxTransformer(),\n",
    "                                YeoJohnsonTransformer(), EqualFrequencyDiscretiser(), EqualWidthDiscretiser(), \n",
    "                                 DecisionTreeDiscretiser()]}"
   ]
  },
  {
   "cell_type": "code",
   "execution_count": 69,
   "metadata": {},
   "outputs": [],
   "source": [
    "hrbr_gs_1 = GridSearchCV(hgbr_pipe,\n",
    "                        params_1,\n",
    "                        scoring = 'neg_mean_squared_error',\n",
    "                        n_jobs = -1,\n",
    "                        cv = 8, \n",
    "                        verbose = 1)"
   ]
  },
  {
   "cell_type": "code",
   "execution_count": 70,
   "metadata": {},
   "outputs": [
    {
     "name": "stdout",
     "output_type": "stream",
     "text": [
      "Fitting 8 folds for each of 16 candidates, totalling 128 fits\n"
     ]
    },
    {
     "name": "stderr",
     "output_type": "stream",
     "text": [
      "[Parallel(n_jobs=-1)]: Using backend LokyBackend with 4 concurrent workers.\n",
      "[Parallel(n_jobs=-1)]: Done  42 tasks      | elapsed:   46.9s\n",
      "[Parallel(n_jobs=-1)]: Done 128 out of 128 | elapsed:  1.6min finished\n"
     ]
    },
    {
     "data": {
      "text/plain": [
       "GridSearchCV(cv=8,\n",
       "             estimator=Pipeline(steps=[('col_tran',\n",
       "                                        ColumnTransformer(transformers=[('scaler',\n",
       "                                                                         ScalerSelector(),\n",
       "                                                                         ['Age',\n",
       "                                                                          'FCVC',\n",
       "                                                                          'NCP',\n",
       "                                                                          'CH2O',\n",
       "                                                                          'FAF',\n",
       "                                                                          'TUE']),\n",
       "                                                                        ('encoder',\n",
       "                                                                         EncoderSelector(),\n",
       "                                                                         ['Gender',\n",
       "                                                                          'family_history_with_overweight',\n",
       "                                                                          'FAVC',\n",
       "                                                                          'CAEC',\n",
       "                                                                          'SMOKE',\n",
       "                                                                          'SCC',\n",
       "                                                                          'CALC',\n",
       "                                                                          'MTRANS'])])),\n",
       "                                       ('hgbt',\n",
       "                                        HistGradientBoostingRegressor(random_state=0,\n",
       "                                                                      warm_start=True))]),...\n",
       "             param_grid={'col_tran__scaler': [StandardScaler(), MinMaxScaler(),\n",
       "                                              MaxAbsScaler(), RobustScaler(),\n",
       "                                              Normalizer(),\n",
       "                                              QuantileTransformer(),\n",
       "                                              PowerTransformer(),\n",
       "                                              LogTransformer(),\n",
       "                                              LogCpTransformer(),\n",
       "                                              ReciprocalTransformer(),\n",
       "                                              PowerTransformer(),\n",
       "                                              BoxCoxTransformer(),\n",
       "                                              YeoJohnsonTransformer(),\n",
       "                                              EqualFrequencyDiscretiser(),\n",
       "                                              EqualWidthDiscretiser(),\n",
       "                                              DecisionTreeDiscretiser()]},\n",
       "             scoring='neg_mean_squared_error', verbose=1)"
      ]
     },
     "execution_count": 70,
     "metadata": {},
     "output_type": "execute_result"
    }
   ],
   "source": [
    "hrbr_gs_1.fit(X_train, y_train)"
   ]
  },
  {
   "cell_type": "code",
   "execution_count": 71,
   "metadata": {},
   "outputs": [
    {
     "data": {
      "text/plain": [
       "-9.14394708232836"
      ]
     },
     "execution_count": 71,
     "metadata": {},
     "output_type": "execute_result"
    }
   ],
   "source": [
    "hrbr_gs_1.best_score_"
   ]
  },
  {
   "cell_type": "code",
   "execution_count": 72,
   "metadata": {},
   "outputs": [
    {
     "data": {
      "text/plain": [
       "{'col_tran__scaler': StandardScaler()}"
      ]
     },
     "execution_count": 72,
     "metadata": {},
     "output_type": "execute_result"
    }
   ],
   "source": [
    "hrbr_gs_1.best_params_"
   ]
  },
  {
   "cell_type": "code",
   "execution_count": 76,
   "metadata": {},
   "outputs": [
    {
     "data": {
      "text/plain": [
       "Pipeline(steps=[('col_tran',\n",
       "                 ColumnTransformer(transformers=[('scaler', StandardScaler(),\n",
       "                                                  ['Age', 'FCVC', 'NCP', 'CH2O',\n",
       "                                                   'FAF', 'TUE']),\n",
       "                                                 ('encoder', EncoderSelector(),\n",
       "                                                  ['Gender',\n",
       "                                                   'family_history_with_overweight',\n",
       "                                                   'FAVC', 'CAEC', 'SMOKE',\n",
       "                                                   'SCC', 'CALC',\n",
       "                                                   'MTRANS'])])),\n",
       "                ('hgbt',\n",
       "                 HistGradientBoostingRegressor(random_state=0,\n",
       "                                               warm_start=True))])"
      ]
     },
     "execution_count": 76,
     "metadata": {},
     "output_type": "execute_result"
    }
   ],
   "source": [
    "hrbr_gs_1.best_estimator_"
   ]
  },
  {
   "cell_type": "markdown",
   "metadata": {},
   "source": [
    "# Grid Search for Standard Scaler & Encoder"
   ]
  },
  {
   "cell_type": "code",
   "execution_count": 77,
   "metadata": {},
   "outputs": [],
   "source": [
    "hgbr_pipe_2 = hrbr_gs_1.best_estimator_"
   ]
  },
  {
   "cell_type": "code",
   "execution_count": 78,
   "metadata": {},
   "outputs": [],
   "source": [
    "params_2 = {'col_tran__scaler__with_mean': [True, False],\n",
    "            'col_tran__scaler__with_std': [True, False],\n",
    "           'col_tran__encoder':[OneHotEncoder(handle_unknown = 'ignore'), LabelEncoder(), OrdinalEncoder(),\n",
    "                               CountFrequencyEncoder(), MeanEncoder(), WoEEncoder(), PRatioEncoder(),\n",
    "                               DecisionTreeEncoder(), RareLabelEncoder(), BackwardDifferenceEncoder(), \n",
    "                                BaseNEncoder(), CatBoostEncoder(), GLMMEncoder(), HashingEncoder(),\n",
    "                               HelmertEncoder(), JamesSteinEncoder(), LeaveOneOutEncoder(), PolynomialEncoder(),\n",
    "                               SumEncoder()]}"
   ]
  },
  {
   "cell_type": "code",
   "execution_count": 79,
   "metadata": {},
   "outputs": [],
   "source": [
    "hrbr_gs_2 = GridSearchCV(hgbr_pipe_2,\n",
    "                        params_2,\n",
    "                        scoring = 'neg_mean_squared_error',\n",
    "                        n_jobs = -1,\n",
    "                        cv = 8, \n",
    "                        verbose = 1)"
   ]
  },
  {
   "cell_type": "code",
   "execution_count": 80,
   "metadata": {},
   "outputs": [
    {
     "name": "stdout",
     "output_type": "stream",
     "text": [
      "Fitting 8 folds for each of 76 candidates, totalling 608 fits\n"
     ]
    },
    {
     "name": "stderr",
     "output_type": "stream",
     "text": [
      "[Parallel(n_jobs=-1)]: Using backend LokyBackend with 4 concurrent workers.\n",
      "[Parallel(n_jobs=-1)]: Done  42 tasks      | elapsed:   28.3s\n",
      "[Parallel(n_jobs=-1)]: Done 192 tasks      | elapsed:  1.9min\n",
      "[Parallel(n_jobs=-1)]: Done 442 tasks      | elapsed:  6.2min\n",
      "[Parallel(n_jobs=-1)]: Done 608 out of 608 | elapsed:  9.0min finished\n"
     ]
    },
    {
     "data": {
      "text/plain": [
       "GridSearchCV(cv=8,\n",
       "             estimator=Pipeline(steps=[('col_tran',\n",
       "                                        ColumnTransformer(transformers=[('scaler',\n",
       "                                                                         StandardScaler(),\n",
       "                                                                         ['Age',\n",
       "                                                                          'FCVC',\n",
       "                                                                          'NCP',\n",
       "                                                                          'CH2O',\n",
       "                                                                          'FAF',\n",
       "                                                                          'TUE']),\n",
       "                                                                        ('encoder',\n",
       "                                                                         EncoderSelector(),\n",
       "                                                                         ['Gender',\n",
       "                                                                          'family_history_with_overweight',\n",
       "                                                                          'FAVC',\n",
       "                                                                          'CAEC',\n",
       "                                                                          'SMOKE',\n",
       "                                                                          'SCC',\n",
       "                                                                          'CALC',\n",
       "                                                                          'MTRANS'])])),\n",
       "                                       ('hgbt',\n",
       "                                        HistGradientBoostingRegressor(random_state=0,\n",
       "                                                                      warm_start=True))]),...\n",
       "                                               DecisionTreeEncoder(),\n",
       "                                               RareLabelEncoder(),\n",
       "                                               BackwardDifferenceEncoder(),\n",
       "                                               BaseNEncoder(),\n",
       "                                               CatBoostEncoder(), GLMMEncoder(),\n",
       "                                               HashingEncoder(max_process=2),\n",
       "                                               HelmertEncoder(),\n",
       "                                               JamesSteinEncoder(),\n",
       "                                               LeaveOneOutEncoder(),\n",
       "                                               PolynomialEncoder(),\n",
       "                                               SumEncoder()],\n",
       "                         'col_tran__scaler__with_mean': [True, False],\n",
       "                         'col_tran__scaler__with_std': [True, False]},\n",
       "             scoring='neg_mean_squared_error', verbose=1)"
      ]
     },
     "execution_count": 80,
     "metadata": {},
     "output_type": "execute_result"
    }
   ],
   "source": [
    "hrbr_gs_2.fit(X_train, y_train)"
   ]
  },
  {
   "cell_type": "code",
   "execution_count": 81,
   "metadata": {},
   "outputs": [
    {
     "data": {
      "text/plain": [
       "-9.021023398907372"
      ]
     },
     "execution_count": 81,
     "metadata": {},
     "output_type": "execute_result"
    }
   ],
   "source": [
    "hrbr_gs_2.best_score_"
   ]
  },
  {
   "cell_type": "code",
   "execution_count": 82,
   "metadata": {},
   "outputs": [
    {
     "data": {
      "text/plain": [
       "{'col_tran__encoder': HelmertEncoder(),\n",
       " 'col_tran__scaler__with_mean': True,\n",
       " 'col_tran__scaler__with_std': True}"
      ]
     },
     "execution_count": 82,
     "metadata": {},
     "output_type": "execute_result"
    }
   ],
   "source": [
    "hrbr_gs_2.best_params_"
   ]
  },
  {
   "cell_type": "code",
   "execution_count": 83,
   "metadata": {},
   "outputs": [
    {
     "data": {
      "text/plain": [
       "Pipeline(steps=[('col_tran',\n",
       "                 ColumnTransformer(transformers=[('scaler', StandardScaler(),\n",
       "                                                  ['Age', 'FCVC', 'NCP', 'CH2O',\n",
       "                                                   'FAF', 'TUE']),\n",
       "                                                 ('encoder', HelmertEncoder(),\n",
       "                                                  ['Gender',\n",
       "                                                   'family_history_with_overweight',\n",
       "                                                   'FAVC', 'CAEC', 'SMOKE',\n",
       "                                                   'SCC', 'CALC',\n",
       "                                                   'MTRANS'])])),\n",
       "                ('hgbt',\n",
       "                 HistGradientBoostingRegressor(random_state=0,\n",
       "                                               warm_start=True))])"
      ]
     },
     "execution_count": 83,
     "metadata": {},
     "output_type": "execute_result"
    }
   ],
   "source": [
    "hrbr_gs_2.best_estimator_"
   ]
  },
  {
   "cell_type": "markdown",
   "metadata": {},
   "source": [
    "# Grid Search on The HistGradientBoostingRegressor Loss & Early Stopping"
   ]
  },
  {
   "cell_type": "code",
   "execution_count": 84,
   "metadata": {},
   "outputs": [],
   "source": [
    "hgbr_pipe_3 = hrbr_gs_2.best_estimator_"
   ]
  },
  {
   "cell_type": "code",
   "execution_count": 85,
   "metadata": {},
   "outputs": [],
   "source": [
    "params_3 = {'hgbt__loss': ['least_squares', 'least_absolute_deviation', 'poisson'],\n",
    "            'hgbt__early_stopping': ['auto', True, False]}"
   ]
  },
  {
   "cell_type": "code",
   "execution_count": 86,
   "metadata": {},
   "outputs": [],
   "source": [
    "hgbr_gs_3 = GridSearchCV(hgbr_pipe_3,\n",
    "                        params_3,\n",
    "                        scoring = 'neg_mean_squared_error',\n",
    "                        n_jobs = -1,\n",
    "                        cv = 8, \n",
    "                        verbose = 1)"
   ]
  },
  {
   "cell_type": "code",
   "execution_count": 87,
   "metadata": {},
   "outputs": [
    {
     "name": "stdout",
     "output_type": "stream",
     "text": [
      "Fitting 8 folds for each of 9 candidates, totalling 72 fits\n"
     ]
    },
    {
     "name": "stderr",
     "output_type": "stream",
     "text": [
      "[Parallel(n_jobs=-1)]: Using backend LokyBackend with 4 concurrent workers.\n",
      "[Parallel(n_jobs=-1)]: Done  42 tasks      | elapsed:   56.8s\n",
      "[Parallel(n_jobs=-1)]: Done  72 out of  72 | elapsed:  1.6min finished\n"
     ]
    },
    {
     "data": {
      "text/plain": [
       "GridSearchCV(cv=8,\n",
       "             estimator=Pipeline(steps=[('col_tran',\n",
       "                                        ColumnTransformer(transformers=[('scaler',\n",
       "                                                                         StandardScaler(),\n",
       "                                                                         ['Age',\n",
       "                                                                          'FCVC',\n",
       "                                                                          'NCP',\n",
       "                                                                          'CH2O',\n",
       "                                                                          'FAF',\n",
       "                                                                          'TUE']),\n",
       "                                                                        ('encoder',\n",
       "                                                                         HelmertEncoder(),\n",
       "                                                                         ['Gender',\n",
       "                                                                          'family_history_with_overweight',\n",
       "                                                                          'FAVC',\n",
       "                                                                          'CAEC',\n",
       "                                                                          'SMOKE',\n",
       "                                                                          'SCC',\n",
       "                                                                          'CALC',\n",
       "                                                                          'MTRANS'])])),\n",
       "                                       ('hgbt',\n",
       "                                        HistGradientBoostingRegressor(random_state=0,\n",
       "                                                                      warm_start=True))]),\n",
       "             n_jobs=-1,\n",
       "             param_grid={'hgbt__early_stopping': ['auto', True, False],\n",
       "                         'hgbt__loss': ['least_squares',\n",
       "                                        'least_absolute_deviation',\n",
       "                                        'poisson']},\n",
       "             scoring='neg_mean_squared_error', verbose=1)"
      ]
     },
     "execution_count": 87,
     "metadata": {},
     "output_type": "execute_result"
    }
   ],
   "source": [
    "hgbr_gs_3.fit(X_train, y_train)"
   ]
  },
  {
   "cell_type": "code",
   "execution_count": 88,
   "metadata": {},
   "outputs": [
    {
     "data": {
      "text/plain": [
       "-8.988745226149934"
      ]
     },
     "execution_count": 88,
     "metadata": {},
     "output_type": "execute_result"
    }
   ],
   "source": [
    "hgbr_gs_3.best_score_"
   ]
  },
  {
   "cell_type": "code",
   "execution_count": 89,
   "metadata": {},
   "outputs": [
    {
     "data": {
      "text/plain": [
       "{'hgbt__early_stopping': 'auto', 'hgbt__loss': 'poisson'}"
      ]
     },
     "execution_count": 89,
     "metadata": {},
     "output_type": "execute_result"
    }
   ],
   "source": [
    "hgbr_gs_3.best_params_"
   ]
  },
  {
   "cell_type": "code",
   "execution_count": 90,
   "metadata": {},
   "outputs": [
    {
     "data": {
      "text/plain": [
       "Pipeline(steps=[('col_tran',\n",
       "                 ColumnTransformer(transformers=[('scaler', StandardScaler(),\n",
       "                                                  ['Age', 'FCVC', 'NCP', 'CH2O',\n",
       "                                                   'FAF', 'TUE']),\n",
       "                                                 ('encoder', HelmertEncoder(),\n",
       "                                                  ['Gender',\n",
       "                                                   'family_history_with_overweight',\n",
       "                                                   'FAVC', 'CAEC', 'SMOKE',\n",
       "                                                   'SCC', 'CALC',\n",
       "                                                   'MTRANS'])])),\n",
       "                ('hgbt',\n",
       "                 HistGradientBoostingRegressor(loss='poisson', random_state=0,\n",
       "                                               warm_start=True))])"
      ]
     },
     "execution_count": 90,
     "metadata": {},
     "output_type": "execute_result"
    }
   ],
   "source": [
    "hgbr_gs_3.best_estimator_"
   ]
  },
  {
   "cell_type": "markdown",
   "metadata": {},
   "source": [
    "# Grid Search on All Remaining HistGradientBoostingRegressor Parameters"
   ]
  },
  {
   "cell_type": "code",
   "execution_count": 91,
   "metadata": {},
   "outputs": [],
   "source": [
    "hgbr_pipe_4 = hgbr_gs_3.best_estimator_"
   ]
  },
  {
   "cell_type": "code",
   "execution_count": 95,
   "metadata": {},
   "outputs": [],
   "source": [
    "params_4 = {'hgbt__learning_rate': [0.01, 0.1, 0.2],\n",
    "            'hgbt__max_iter': [50, 100, 150],\n",
    "           'hgbt__max_leaf_nodes': [30, 31, 32],\n",
    "           'hgbt__max_depth': [None, 5, 10],\n",
    "           'hgbt__min_samples_leaf': [19, 20, 21]}"
   ]
  },
  {
   "cell_type": "code",
   "execution_count": 96,
   "metadata": {},
   "outputs": [],
   "source": [
    "hgbr_gs_4 = GridSearchCV(hgbr_pipe_4,\n",
    "                        params_4,\n",
    "                        scoring = 'neg_mean_squared_error',\n",
    "                        n_jobs = -1,\n",
    "                        cv = 8, \n",
    "                        verbose = 1)"
   ]
  },
  {
   "cell_type": "code",
   "execution_count": 97,
   "metadata": {},
   "outputs": [
    {
     "name": "stdout",
     "output_type": "stream",
     "text": [
      "Fitting 8 folds for each of 243 candidates, totalling 1944 fits\n"
     ]
    },
    {
     "name": "stderr",
     "output_type": "stream",
     "text": [
      "[Parallel(n_jobs=-1)]: Using backend LokyBackend with 4 concurrent workers.\n",
      "[Parallel(n_jobs=-1)]: Done  42 tasks      | elapsed:   40.7s\n",
      "[Parallel(n_jobs=-1)]: Done 192 tasks      | elapsed:  3.9min\n",
      "[Parallel(n_jobs=-1)]: Done 442 tasks      | elapsed:  7.3min\n",
      "[Parallel(n_jobs=-1)]: Done 792 tasks      | elapsed: 13.8min\n",
      "[Parallel(n_jobs=-1)]: Done 1242 tasks      | elapsed: 21.1min\n",
      "[Parallel(n_jobs=-1)]: Done 1792 tasks      | elapsed: 26.0min\n",
      "[Parallel(n_jobs=-1)]: Done 1944 out of 1944 | elapsed: 27.7min finished\n"
     ]
    },
    {
     "data": {
      "text/plain": [
       "GridSearchCV(cv=8,\n",
       "             estimator=Pipeline(steps=[('col_tran',\n",
       "                                        ColumnTransformer(transformers=[('scaler',\n",
       "                                                                         StandardScaler(),\n",
       "                                                                         ['Age',\n",
       "                                                                          'FCVC',\n",
       "                                                                          'NCP',\n",
       "                                                                          'CH2O',\n",
       "                                                                          'FAF',\n",
       "                                                                          'TUE']),\n",
       "                                                                        ('encoder',\n",
       "                                                                         HelmertEncoder(),\n",
       "                                                                         ['Gender',\n",
       "                                                                          'family_history_with_overweight',\n",
       "                                                                          'FAVC',\n",
       "                                                                          'CAEC',\n",
       "                                                                          'SMOKE',\n",
       "                                                                          'SCC',\n",
       "                                                                          'CALC',\n",
       "                                                                          'MTRANS'])])),\n",
       "                                       ('hgbt',\n",
       "                                        HistGradientBoostingRegressor(loss='poisson',\n",
       "                                                                      random_state=0,\n",
       "                                                                      warm_start=True))]),\n",
       "             n_jobs=-1,\n",
       "             param_grid={'hgbt__learning_rate': [0.01, 0.1, 0.2],\n",
       "                         'hgbt__max_depth': [None, 5, 10],\n",
       "                         'hgbt__max_iter': [50, 100, 150],\n",
       "                         'hgbt__max_leaf_nodes': [30, 31, 32],\n",
       "                         'hgbt__min_samples_leaf': [19, 20, 21]},\n",
       "             scoring='neg_mean_squared_error', verbose=1)"
      ]
     },
     "execution_count": 97,
     "metadata": {},
     "output_type": "execute_result"
    }
   ],
   "source": [
    "hgbr_gs_4.fit(X_train, y_train)"
   ]
  },
  {
   "cell_type": "code",
   "execution_count": 98,
   "metadata": {},
   "outputs": [
    {
     "data": {
      "text/plain": [
       "-8.78159933608128"
      ]
     },
     "execution_count": 98,
     "metadata": {},
     "output_type": "execute_result"
    }
   ],
   "source": [
    "hgbr_gs_4.best_score_"
   ]
  },
  {
   "cell_type": "code",
   "execution_count": 99,
   "metadata": {},
   "outputs": [
    {
     "data": {
      "text/plain": [
       "{'hgbt__learning_rate': 0.2,\n",
       " 'hgbt__max_depth': 10,\n",
       " 'hgbt__max_iter': 150,\n",
       " 'hgbt__max_leaf_nodes': 30,\n",
       " 'hgbt__min_samples_leaf': 19}"
      ]
     },
     "execution_count": 99,
     "metadata": {},
     "output_type": "execute_result"
    }
   ],
   "source": [
    "hgbr_gs_4.best_params_"
   ]
  },
  {
   "cell_type": "code",
   "execution_count": 100,
   "metadata": {},
   "outputs": [
    {
     "data": {
      "text/plain": [
       "Pipeline(steps=[('col_tran',\n",
       "                 ColumnTransformer(transformers=[('scaler', StandardScaler(),\n",
       "                                                  ['Age', 'FCVC', 'NCP', 'CH2O',\n",
       "                                                   'FAF', 'TUE']),\n",
       "                                                 ('encoder', HelmertEncoder(),\n",
       "                                                  ['Gender',\n",
       "                                                   'family_history_with_overweight',\n",
       "                                                   'FAVC', 'CAEC', 'SMOKE',\n",
       "                                                   'SCC', 'CALC',\n",
       "                                                   'MTRANS'])])),\n",
       "                ('hgbt',\n",
       "                 HistGradientBoostingRegressor(learning_rate=0.2,\n",
       "                                               loss='poisson', max_depth=10,\n",
       "                                               max_iter=150, max_leaf_nodes=30,\n",
       "                                               min_samples_leaf=19,\n",
       "                                               random_state=0,\n",
       "                                               warm_start=True))])"
      ]
     },
     "execution_count": 100,
     "metadata": {},
     "output_type": "execute_result"
    }
   ],
   "source": [
    "hgbr_gs_4.best_estimator_"
   ]
  },
  {
   "cell_type": "markdown",
   "metadata": {},
   "source": [
    "# Continuation of Grid Search on All Remaining HistGradientBoostingRegressor Parameters"
   ]
  },
  {
   "cell_type": "code",
   "execution_count": 101,
   "metadata": {},
   "outputs": [],
   "source": [
    "hgbr_pipe_5 = hgbr_gs_4.best_estimator_"
   ]
  },
  {
   "cell_type": "code",
   "execution_count": 102,
   "metadata": {},
   "outputs": [],
   "source": [
    "params_5 = {'hgbt__learning_rate': [0.2, 0.3, 0.4],\n",
    "            'hgbt__max_iter': [150, 200, 250],\n",
    "           'hgbt__max_leaf_nodes': [28, 29, 30],\n",
    "           'hgbt__max_depth': [10, 15, 20],\n",
    "           'hgbt__min_samples_leaf': [17, 18, 19],\n",
    "           'hgbt__l2_regularization': [0, 0.1, 0.2]}"
   ]
  },
  {
   "cell_type": "code",
   "execution_count": 103,
   "metadata": {},
   "outputs": [],
   "source": [
    "hgbr_gs_5 = GridSearchCV(hgbr_pipe_5,\n",
    "                        params_5,\n",
    "                        scoring = 'neg_mean_squared_error',\n",
    "                        n_jobs = -1,\n",
    "                        cv = 8, \n",
    "                        verbose = 1)"
   ]
  },
  {
   "cell_type": "code",
   "execution_count": 104,
   "metadata": {},
   "outputs": [
    {
     "name": "stdout",
     "output_type": "stream",
     "text": [
      "Fitting 8 folds for each of 729 candidates, totalling 5832 fits\n"
     ]
    },
    {
     "name": "stderr",
     "output_type": "stream",
     "text": [
      "[Parallel(n_jobs=-1)]: Using backend LokyBackend with 4 concurrent workers.\n",
      "[Parallel(n_jobs=-1)]: Done  42 tasks      | elapsed:   52.8s\n",
      "[Parallel(n_jobs=-1)]: Done 192 tasks      | elapsed:  5.7min\n",
      "[Parallel(n_jobs=-1)]: Done 442 tasks      | elapsed: 14.1min\n",
      "[Parallel(n_jobs=-1)]: Done 792 tasks      | elapsed: 23.9min\n",
      "[Parallel(n_jobs=-1)]: Done 1242 tasks      | elapsed: 37.9min\n",
      "[Parallel(n_jobs=-1)]: Done 1792 tasks      | elapsed: 49.6min\n",
      "[Parallel(n_jobs=-1)]: Done 2442 tasks      | elapsed: 71.4min\n",
      "[Parallel(n_jobs=-1)]: Done 3192 tasks      | elapsed: 93.4min\n",
      "[Parallel(n_jobs=-1)]: Done 4042 tasks      | elapsed: 113.6min\n",
      "[Parallel(n_jobs=-1)]: Done 4992 tasks      | elapsed: 135.8min\n",
      "[Parallel(n_jobs=-1)]: Done 5832 out of 5832 | elapsed: 156.7min finished\n"
     ]
    },
    {
     "data": {
      "text/plain": [
       "GridSearchCV(cv=8,\n",
       "             estimator=Pipeline(steps=[('col_tran',\n",
       "                                        ColumnTransformer(transformers=[('scaler',\n",
       "                                                                         StandardScaler(),\n",
       "                                                                         ['Age',\n",
       "                                                                          'FCVC',\n",
       "                                                                          'NCP',\n",
       "                                                                          'CH2O',\n",
       "                                                                          'FAF',\n",
       "                                                                          'TUE']),\n",
       "                                                                        ('encoder',\n",
       "                                                                         HelmertEncoder(),\n",
       "                                                                         ['Gender',\n",
       "                                                                          'family_history_with_overweight',\n",
       "                                                                          'FAVC',\n",
       "                                                                          'CAEC',\n",
       "                                                                          'SMOKE',\n",
       "                                                                          'SCC',\n",
       "                                                                          'CALC',\n",
       "                                                                          'MTRANS'])])),\n",
       "                                       ('hgbt',\n",
       "                                        HistGradientBoostingRegressor(learning_rate=0.2,\n",
       "                                                                      loss='poisson',\n",
       "                                                                      max...\n",
       "                                                                      max_iter=150,\n",
       "                                                                      max_leaf_nodes=30,\n",
       "                                                                      min_samples_leaf=19,\n",
       "                                                                      random_state=0,\n",
       "                                                                      warm_start=True))]),\n",
       "             n_jobs=-1,\n",
       "             param_grid={'hgbt__l2_regularization': [0, 0.1, 0.2],\n",
       "                         'hgbt__learning_rate': [0.2, 0.3, 0.4],\n",
       "                         'hgbt__max_depth': [10, 15, 20],\n",
       "                         'hgbt__max_iter': [150, 200, 250],\n",
       "                         'hgbt__max_leaf_nodes': [28, 29, 30],\n",
       "                         'hgbt__min_samples_leaf': [17, 18, 19]},\n",
       "             scoring='neg_mean_squared_error', verbose=1)"
      ]
     },
     "execution_count": 104,
     "metadata": {},
     "output_type": "execute_result"
    }
   ],
   "source": [
    "hgbr_gs_5.fit(X_train, y_train)"
   ]
  },
  {
   "cell_type": "code",
   "execution_count": 105,
   "metadata": {},
   "outputs": [
    {
     "data": {
      "text/plain": [
       "-8.752602839168855"
      ]
     },
     "execution_count": 105,
     "metadata": {},
     "output_type": "execute_result"
    }
   ],
   "source": [
    "hgbr_gs_5.best_score_"
   ]
  },
  {
   "cell_type": "code",
   "execution_count": 106,
   "metadata": {},
   "outputs": [
    {
     "data": {
      "text/plain": [
       "{'hgbt__l2_regularization': 0.1,\n",
       " 'hgbt__learning_rate': 0.2,\n",
       " 'hgbt__max_depth': 20,\n",
       " 'hgbt__max_iter': 150,\n",
       " 'hgbt__max_leaf_nodes': 30,\n",
       " 'hgbt__min_samples_leaf': 19}"
      ]
     },
     "execution_count": 106,
     "metadata": {},
     "output_type": "execute_result"
    }
   ],
   "source": [
    "hgbr_gs_5.best_params_"
   ]
  },
  {
   "cell_type": "code",
   "execution_count": 107,
   "metadata": {},
   "outputs": [
    {
     "data": {
      "text/plain": [
       "Pipeline(steps=[('col_tran',\n",
       "                 ColumnTransformer(transformers=[('scaler', StandardScaler(),\n",
       "                                                  ['Age', 'FCVC', 'NCP', 'CH2O',\n",
       "                                                   'FAF', 'TUE']),\n",
       "                                                 ('encoder', HelmertEncoder(),\n",
       "                                                  ['Gender',\n",
       "                                                   'family_history_with_overweight',\n",
       "                                                   'FAVC', 'CAEC', 'SMOKE',\n",
       "                                                   'SCC', 'CALC',\n",
       "                                                   'MTRANS'])])),\n",
       "                ('hgbt',\n",
       "                 HistGradientBoostingRegressor(l2_regularization=0.1,\n",
       "                                               learning_rate=0.2,\n",
       "                                               loss='poisson', max_depth=20,\n",
       "                                               max_iter=150, max_leaf_nodes=30,\n",
       "                                               min_samples_leaf=19,\n",
       "                                               random_state=0,\n",
       "                                               warm_start=True))])"
      ]
     },
     "execution_count": 107,
     "metadata": {},
     "output_type": "execute_result"
    }
   ],
   "source": [
    "hgbr_gs_5.best_estimator_"
   ]
  },
  {
   "cell_type": "markdown",
   "metadata": {},
   "source": [
    "# Continuation of Grid Search on All Remaining HistGradientBoostingRegressor Parameters"
   ]
  },
  {
   "cell_type": "code",
   "execution_count": 111,
   "metadata": {},
   "outputs": [],
   "source": [
    "hgbr_pipe_6 = hgbr_gs_5.best_estimator_"
   ]
  },
  {
   "cell_type": "code",
   "execution_count": 109,
   "metadata": {},
   "outputs": [],
   "source": [
    "params_6 = {'hgbt__max_depth': [20, 25, 30],\n",
    "           'hgbt__l2_regularization': [0.01, 0.05, 0.1],\n",
    "           'hgbt__max_bins': [200, 255, 300],\n",
    "           'hgbt__scoring': ['loss', 'neg_mean_squared_error'],\n",
    "           'hgbt__validation_fraction': [0.01, 0.1, 0.2],\n",
    "           'hgbt__n_iter_no_change': [5, 10, 15],\n",
    "           'hgbt__tol': [1e-8, 1e-7, 1e-6]}"
   ]
  },
  {
   "cell_type": "code",
   "execution_count": 112,
   "metadata": {},
   "outputs": [],
   "source": [
    "hgbr_gs_6 = GridSearchCV(hgbr_pipe_6,\n",
    "                        params_6,\n",
    "                        scoring = 'neg_mean_squared_error',\n",
    "                        n_jobs = -1,\n",
    "                        cv = 8, \n",
    "                        verbose = 1)"
   ]
  },
  {
   "cell_type": "code",
   "execution_count": 113,
   "metadata": {},
   "outputs": [
    {
     "name": "stdout",
     "output_type": "stream",
     "text": [
      "Fitting 8 folds for each of 1458 candidates, totalling 11664 fits\n"
     ]
    },
    {
     "name": "stderr",
     "output_type": "stream",
     "text": [
      "[Parallel(n_jobs=-1)]: Using backend LokyBackend with 4 concurrent workers.\n",
      "[Parallel(n_jobs=-1)]: Done  42 tasks      | elapsed:   34.5s\n",
      "[Parallel(n_jobs=-1)]: Done 192 tasks      | elapsed:  2.9min\n",
      "[Parallel(n_jobs=-1)]: Done 442 tasks      | elapsed:  6.1min\n",
      "[Parallel(n_jobs=-1)]: Done 792 tasks      | elapsed: 10.2min\n",
      "[Parallel(n_jobs=-1)]: Done 1242 tasks      | elapsed: 15.1min\n",
      "[Parallel(n_jobs=-1)]: Done 1792 tasks      | elapsed: 21.4min\n",
      "[Parallel(n_jobs=-1)]: Done 2442 tasks      | elapsed: 29.6min\n",
      "[Parallel(n_jobs=-1)]: Done 3192 tasks      | elapsed: 32.3min\n",
      "[Parallel(n_jobs=-1)]: Done 4042 tasks      | elapsed: 35.0min\n",
      "[Parallel(n_jobs=-1)]: Done 4992 tasks      | elapsed: 45.3min\n",
      "[Parallel(n_jobs=-1)]: Done 6042 tasks      | elapsed: 57.4min\n",
      "[Parallel(n_jobs=-1)]: Done 7192 tasks      | elapsed: 63.5min\n",
      "[Parallel(n_jobs=-1)]: Done 8442 tasks      | elapsed: 71.6min\n",
      "[Parallel(n_jobs=-1)]: Done 9792 tasks      | elapsed: 87.1min\n",
      "[Parallel(n_jobs=-1)]: Done 11242 tasks      | elapsed: 95.3min\n",
      "[Parallel(n_jobs=-1)]: Done 11664 out of 11664 | elapsed: 95.8min finished\n"
     ]
    },
    {
     "data": {
      "text/plain": [
       "GridSearchCV(cv=8,\n",
       "             estimator=Pipeline(steps=[('col_tran',\n",
       "                                        ColumnTransformer(transformers=[('scaler',\n",
       "                                                                         StandardScaler(),\n",
       "                                                                         ['Age',\n",
       "                                                                          'FCVC',\n",
       "                                                                          'NCP',\n",
       "                                                                          'CH2O',\n",
       "                                                                          'FAF',\n",
       "                                                                          'TUE']),\n",
       "                                                                        ('encoder',\n",
       "                                                                         HelmertEncoder(),\n",
       "                                                                         ['Gender',\n",
       "                                                                          'family_history_with_overweight',\n",
       "                                                                          'FAVC',\n",
       "                                                                          'CAEC',\n",
       "                                                                          'SMOKE',\n",
       "                                                                          'SCC',\n",
       "                                                                          'CALC',\n",
       "                                                                          'MTRANS'])])),\n",
       "                                       ('hgbt',\n",
       "                                        HistGradientBoostingRegressor(l2_regularization=0.1,\n",
       "                                                                      learning_rate=...\n",
       "                                                                      random_state=0,\n",
       "                                                                      warm_start=True))]),\n",
       "             n_jobs=-1,\n",
       "             param_grid={'hgbt__l2_regularization': [0.01, 0.05, 0.1],\n",
       "                         'hgbt__max_bins': [200, 255, 300],\n",
       "                         'hgbt__max_depth': [20, 25, 30],\n",
       "                         'hgbt__n_iter_no_change': [5, 10, 15],\n",
       "                         'hgbt__scoring': ['loss', 'neg_mean_squared_error'],\n",
       "                         'hgbt__tol': [1e-08, 1e-07, 1e-06],\n",
       "                         'hgbt__validation_fraction': [0.01, 0.1, 0.2]},\n",
       "             scoring='neg_mean_squared_error', verbose=1)"
      ]
     },
     "execution_count": 113,
     "metadata": {},
     "output_type": "execute_result"
    }
   ],
   "source": [
    "hgbr_gs_6.fit(X_train, y_train)"
   ]
  },
  {
   "cell_type": "code",
   "execution_count": 114,
   "metadata": {},
   "outputs": [
    {
     "data": {
      "text/plain": [
       "-8.750890576256486"
      ]
     },
     "execution_count": 114,
     "metadata": {},
     "output_type": "execute_result"
    }
   ],
   "source": [
    "hgbr_gs_6.best_score_"
   ]
  },
  {
   "cell_type": "code",
   "execution_count": 115,
   "metadata": {},
   "outputs": [
    {
     "data": {
      "text/plain": [
       "{'hgbt__l2_regularization': 0.1,\n",
       " 'hgbt__max_bins': 255,\n",
       " 'hgbt__max_depth': 25,\n",
       " 'hgbt__n_iter_no_change': 5,\n",
       " 'hgbt__scoring': 'loss',\n",
       " 'hgbt__tol': 1e-08,\n",
       " 'hgbt__validation_fraction': 0.01}"
      ]
     },
     "execution_count": 115,
     "metadata": {},
     "output_type": "execute_result"
    }
   ],
   "source": [
    "hgbr_gs_6.best_params_"
   ]
  },
  {
   "cell_type": "code",
   "execution_count": 116,
   "metadata": {},
   "outputs": [
    {
     "data": {
      "text/plain": [
       "Pipeline(steps=[('col_tran',\n",
       "                 ColumnTransformer(transformers=[('scaler', StandardScaler(),\n",
       "                                                  ['Age', 'FCVC', 'NCP', 'CH2O',\n",
       "                                                   'FAF', 'TUE']),\n",
       "                                                 ('encoder', HelmertEncoder(),\n",
       "                                                  ['Gender',\n",
       "                                                   'family_history_with_overweight',\n",
       "                                                   'FAVC', 'CAEC', 'SMOKE',\n",
       "                                                   'SCC', 'CALC',\n",
       "                                                   'MTRANS'])])),\n",
       "                ('hgbt',\n",
       "                 HistGradientBoostingRegressor(l2_regularization=0.1,\n",
       "                                               learning_rate=0.2,\n",
       "                                               loss='poisson', max_depth=25,\n",
       "                                               max_iter=150, max_leaf_nodes=30,\n",
       "                                               min_samples_leaf=19,\n",
       "                                               n_iter_no_change=5,\n",
       "                                               random_state=0, tol=1e-08,\n",
       "                                               validation_fraction=0.01,\n",
       "                                               warm_start=True))])"
      ]
     },
     "execution_count": 116,
     "metadata": {},
     "output_type": "execute_result"
    }
   ],
   "source": [
    "hgbr_gs_6.best_estimator_"
   ]
  },
  {
   "cell_type": "markdown",
   "metadata": {},
   "source": [
    "# Continuation of Grid Search on All Remaining HistGradientBoostingRegressor Parameters"
   ]
  },
  {
   "cell_type": "code",
   "execution_count": 117,
   "metadata": {},
   "outputs": [],
   "source": [
    "hgbr_pipe_7 = hgbr_gs_6.best_estimator_"
   ]
  },
  {
   "cell_type": "code",
   "execution_count": 120,
   "metadata": {},
   "outputs": [],
   "source": [
    "params_7 = {'hgbt__validation_fraction': [0.0001, 0.0005, 0.001, 0.005, 0.01,],\n",
    "           'hgbt__n_iter_no_change': [1, 2, 3, 4, 5],\n",
    "           'hgbt__tol': [1e-12, 1e-11, 1e-10, 1e-9, 1e-8]}"
   ]
  },
  {
   "cell_type": "code",
   "execution_count": 121,
   "metadata": {},
   "outputs": [],
   "source": [
    "hgbr_gs_7 = GridSearchCV(hgbr_pipe_7,\n",
    "                        params_7,\n",
    "                        scoring = 'neg_mean_squared_error',\n",
    "                        n_jobs = -1,\n",
    "                        cv = 8, \n",
    "                        verbose = 1)"
   ]
  },
  {
   "cell_type": "code",
   "execution_count": 122,
   "metadata": {},
   "outputs": [
    {
     "name": "stdout",
     "output_type": "stream",
     "text": [
      "Fitting 8 folds for each of 125 candidates, totalling 1000 fits\n"
     ]
    },
    {
     "name": "stderr",
     "output_type": "stream",
     "text": [
      "[Parallel(n_jobs=-1)]: Using backend LokyBackend with 4 concurrent workers.\n",
      "[Parallel(n_jobs=-1)]: Done  42 tasks      | elapsed:  1.1min\n",
      "[Parallel(n_jobs=-1)]: Done 192 tasks      | elapsed:  4.1min\n",
      "[Parallel(n_jobs=-1)]: Done 442 tasks      | elapsed:  9.0min\n",
      "[Parallel(n_jobs=-1)]: Done 792 tasks      | elapsed: 16.2min\n",
      "[Parallel(n_jobs=-1)]: Done 1000 out of 1000 | elapsed: 20.7min finished\n"
     ]
    },
    {
     "data": {
      "text/plain": [
       "GridSearchCV(cv=8,\n",
       "             estimator=Pipeline(steps=[('col_tran',\n",
       "                                        ColumnTransformer(transformers=[('scaler',\n",
       "                                                                         StandardScaler(),\n",
       "                                                                         ['Age',\n",
       "                                                                          'FCVC',\n",
       "                                                                          'NCP',\n",
       "                                                                          'CH2O',\n",
       "                                                                          'FAF',\n",
       "                                                                          'TUE']),\n",
       "                                                                        ('encoder',\n",
       "                                                                         HelmertEncoder(),\n",
       "                                                                         ['Gender',\n",
       "                                                                          'family_history_with_overweight',\n",
       "                                                                          'FAVC',\n",
       "                                                                          'CAEC',\n",
       "                                                                          'SMOKE',\n",
       "                                                                          'SCC',\n",
       "                                                                          'CALC',\n",
       "                                                                          'MTRANS'])])),\n",
       "                                       ('hgbt',\n",
       "                                        HistGradientBoostingRegressor(l2_regularization=0.1,\n",
       "                                                                      learning_rate=...\n",
       "                                                                      max_depth=25,\n",
       "                                                                      max_iter=150,\n",
       "                                                                      max_leaf_nodes=30,\n",
       "                                                                      min_samples_leaf=19,\n",
       "                                                                      n_iter_no_change=5,\n",
       "                                                                      random_state=0,\n",
       "                                                                      tol=1e-08,\n",
       "                                                                      validation_fraction=0.01,\n",
       "                                                                      warm_start=True))]),\n",
       "             n_jobs=-1,\n",
       "             param_grid={'hgbt__n_iter_no_change': [1, 2, 3, 4, 5],\n",
       "                         'hgbt__tol': [1e-12, 1e-11, 1e-10, 1e-09, 1e-08],\n",
       "                         'hgbt__validation_fraction': [0.0001, 0.0005, 0.001,\n",
       "                                                       0.005, 0.01]},\n",
       "             scoring='neg_mean_squared_error', verbose=1)"
      ]
     },
     "execution_count": 122,
     "metadata": {},
     "output_type": "execute_result"
    }
   ],
   "source": [
    "hgbr_gs_7.fit(X_train, y_train)"
   ]
  },
  {
   "cell_type": "code",
   "execution_count": 123,
   "metadata": {},
   "outputs": [
    {
     "data": {
      "text/plain": [
       "-8.750890576256486"
      ]
     },
     "execution_count": 123,
     "metadata": {},
     "output_type": "execute_result"
    }
   ],
   "source": [
    "hgbr_gs_7.best_score_"
   ]
  },
  {
   "cell_type": "code",
   "execution_count": 124,
   "metadata": {},
   "outputs": [
    {
     "data": {
      "text/plain": [
       "{'hgbt__n_iter_no_change': 1,\n",
       " 'hgbt__tol': 1e-12,\n",
       " 'hgbt__validation_fraction': 0.0001}"
      ]
     },
     "execution_count": 124,
     "metadata": {},
     "output_type": "execute_result"
    }
   ],
   "source": [
    "hgbr_gs_7.best_params_"
   ]
  },
  {
   "cell_type": "code",
   "execution_count": 125,
   "metadata": {},
   "outputs": [
    {
     "data": {
      "text/plain": [
       "Pipeline(steps=[('col_tran',\n",
       "                 ColumnTransformer(transformers=[('scaler', StandardScaler(),\n",
       "                                                  ['Age', 'FCVC', 'NCP', 'CH2O',\n",
       "                                                   'FAF', 'TUE']),\n",
       "                                                 ('encoder', HelmertEncoder(),\n",
       "                                                  ['Gender',\n",
       "                                                   'family_history_with_overweight',\n",
       "                                                   'FAVC', 'CAEC', 'SMOKE',\n",
       "                                                   'SCC', 'CALC',\n",
       "                                                   'MTRANS'])])),\n",
       "                ('hgbt',\n",
       "                 HistGradientBoostingRegressor(l2_regularization=0.1,\n",
       "                                               learning_rate=0.2,\n",
       "                                               loss='poisson', max_depth=25,\n",
       "                                               max_iter=150, max_leaf_nodes=30,\n",
       "                                               min_samples_leaf=19,\n",
       "                                               n_iter_no_change=1,\n",
       "                                               random_state=0, tol=1e-12,\n",
       "                                               validation_fraction=0.0001,\n",
       "                                               warm_start=True))])"
      ]
     },
     "execution_count": 125,
     "metadata": {},
     "output_type": "execute_result"
    }
   ],
   "source": [
    "hgbr_gs_7.best_estimator_"
   ]
  },
  {
   "cell_type": "markdown",
   "metadata": {},
   "source": [
    "# Evaluation of Final Model"
   ]
  },
  {
   "cell_type": "code",
   "execution_count": 131,
   "metadata": {},
   "outputs": [],
   "source": [
    "hgbr_pipe_8 = hgbr_gs_7.best_estimator_"
   ]
  },
  {
   "cell_type": "code",
   "execution_count": 133,
   "metadata": {},
   "outputs": [
    {
     "data": {
      "text/plain": [
       "0.9900348802013096"
      ]
     },
     "execution_count": 133,
     "metadata": {},
     "output_type": "execute_result"
    }
   ],
   "source": [
    "hgbr_pipe_8.score(X_train, y_train)"
   ]
  },
  {
   "cell_type": "code",
   "execution_count": 134,
   "metadata": {},
   "outputs": [
    {
     "data": {
      "text/plain": [
       "0.8740563671385658"
      ]
     },
     "execution_count": 134,
     "metadata": {},
     "output_type": "execute_result"
    }
   ],
   "source": [
    "hgbr_pipe_8.score(X_test, y_test)"
   ]
  },
  {
   "cell_type": "code",
   "execution_count": 142,
   "metadata": {},
   "outputs": [],
   "source": [
    "def rmse(actual, predicted):\n",
    "    return sqrt(mean_squared_error(actual, predicted)) "
   ]
  },
  {
   "cell_type": "code",
   "execution_count": 138,
   "metadata": {},
   "outputs": [],
   "source": [
    "y_pred_train = hgbr_pipe_8.predict(X_train)\n",
    "y_pred_test = hgbr_pipe_8.predict(X_test)"
   ]
  },
  {
   "cell_type": "code",
   "execution_count": 143,
   "metadata": {},
   "outputs": [
    {
     "data": {
      "text/plain": [
       "0.8003531307407434"
      ]
     },
     "execution_count": 143,
     "metadata": {},
     "output_type": "execute_result"
    }
   ],
   "source": [
    "rmse(y_train, y_pred_train)"
   ]
  },
  {
   "cell_type": "code",
   "execution_count": 144,
   "metadata": {},
   "outputs": [
    {
     "data": {
      "text/plain": [
       "2.833798100983141"
      ]
     },
     "execution_count": 144,
     "metadata": {},
     "output_type": "execute_result"
    }
   ],
   "source": [
    "rmse(y_test, y_pred_test)"
   ]
  },
  {
   "cell_type": "code",
   "execution_count": 145,
   "metadata": {},
   "outputs": [],
   "source": [
    "def adj_r2(model, X, y):\n",
    "    return 1 - (1 - model.score(X, y)) * (len(y) - 1)/(len(y) - X.shape[1] - 1)"
   ]
  },
  {
   "cell_type": "code",
   "execution_count": 146,
   "metadata": {},
   "outputs": [
    {
     "data": {
      "text/plain": [
       "0.9899458491373775"
      ]
     },
     "execution_count": 146,
     "metadata": {},
     "output_type": "execute_result"
    }
   ],
   "source": [
    "adj_r2(hgbr_pipe_8, X_train, y_train)"
   ]
  },
  {
   "cell_type": "code",
   "execution_count": 147,
   "metadata": {},
   "outputs": [
    {
     "data": {
      "text/plain": [
       "0.870619308931821"
      ]
     },
     "execution_count": 147,
     "metadata": {},
     "output_type": "execute_result"
    }
   ],
   "source": [
    "adj_r2(hgbr_pipe_8, X_test, y_test)"
   ]
  }
 ],
 "metadata": {
  "hide_input": false,
  "kernelspec": {
   "display_name": "learn-env",
   "language": "python",
   "name": "learn-env"
  },
  "language_info": {
   "codemirror_mode": {
    "name": "ipython",
    "version": 3
   },
   "file_extension": ".py",
   "mimetype": "text/x-python",
   "name": "python",
   "nbconvert_exporter": "python",
   "pygments_lexer": "ipython3",
   "version": "3.8.5"
  }
 },
 "nbformat": 4,
 "nbformat_minor": 4
}
